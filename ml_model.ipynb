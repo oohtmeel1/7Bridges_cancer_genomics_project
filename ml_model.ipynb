{
 "cells": [
  {
   "cell_type": "markdown",
   "id": "b0ea99c8-fc12-45f4-b5c1-038606a900e5",
   "metadata": {},
   "source": [
    "## Model performance sheet\n",
    "\n",
    "Below are the metrics for my model. \\\n",
    "It was a Pytorch Convolutional network.\n",
    "\n",
    "This report outputs, precision, recall, accuracy, and the F-1 score. As well as a plot of the ROC curve. \n",
    "\n",
    "Binary accuracy is the % of predictions the model gets right. \\\n",
    "given by: $\\frac{True Positive + True Negative}{True Positive + False Positive + True Negative + False Negative}$ \n",
    "\n",
    "Precision is the ratio of true positive to true positive + false positive predictions. \\\n",
    "given by: $\\frac{True Positive }{True Positive + False Positive}$ \n",
    "\n",
    "Recall is how often the model correctly identifies the truly positive class.\\\n",
    "given by:$\\frac{True Positive }{True Positive + False Negative}$ \n",
    "\n",
    "\n",
    "The F1 score is $2 * \\frac{Precision * Recall}{Precision +Recall}$ \n"
   ]
  },
  {
   "cell_type": "code",
   "execution_count": 25,
   "id": "365c91bd-205a-4d2d-8bd2-7e06ce42d689",
   "metadata": {},
   "outputs": [],
   "source": [
    "!pip install torch==2.0.0 torchvision==0.15.1 torchaudio==2.0.1 --quiet\n",
    "!pip install torchsummary --quiet\n",
    "!pip install pydicom --quiet\n",
    "import warnings\n",
    "warnings.filterwarnings(\"ignore\")\n"
   ]
  },
  {
   "cell_type": "code",
   "execution_count": 4,
   "id": "05639459-075e-423f-be2b-565a8db697c1",
   "metadata": {},
   "outputs": [],
   "source": [
    "! pip install torcheval --quiet"
   ]
  },
  {
   "cell_type": "code",
   "execution_count": 5,
   "id": "ae8f7e81-1860-4e9c-b4cc-15fe32645d1d",
   "metadata": {},
   "outputs": [],
   "source": [
    "import os\n",
    "import numpy as np\n",
    "import pandas as pd\n",
    "import shutil\n",
    "import torch\n",
    "import torch.optim as optim\n",
    "import torch.nn as nn\n",
    "import torch.nn as nn\n",
    "import torch.nn.functional as F\n",
    "\n",
    "import torch\n",
    "import torchvision\n",
    "#from torch.utils.tensorboard import SummaryWriter\n",
    "from torchvision import datasets, transforms\n",
    "from torchsummary import summary"
   ]
  },
  {
   "cell_type": "code",
   "execution_count": 6,
   "id": "d0bbc264-fa5c-4b2b-aca7-1643bc25cdee",
   "metadata": {},
   "outputs": [],
   "source": [
    "pathy='/sbgenomics/project-files/Agnes_McFarlin_Tier1_Submission/challenge_data/Transformed_Data'"
   ]
  },
  {
   "cell_type": "code",
   "execution_count": 7,
   "id": "afbf7084-51df-450a-b1c8-e14217001da6",
   "metadata": {},
   "outputs": [],
   "source": [
    "#The below chunks make little data frames of all of the files we just split up. \n",
    "#For training\n",
    "\n",
    "starter_path=(pathy+\"/train/\")\n",
    "data_labels_tr=[]\n",
    "next_path= os.listdir(starter_path)\n",
    "\n",
    "#after_that = os.path.join(starter_path,next_path[0])\n",
    "#now_test= os.listdir(after_that)\n",
    "for i in next_path:\n",
    "    impath=(os.path.join(starter_path,i))\n",
    "    data_labels_tr.append(i)"
   ]
  },
  {
   "cell_type": "code",
   "execution_count": 8,
   "id": "f5149025-1b2a-4df9-bbce-9c5839d1faba",
   "metadata": {},
   "outputs": [],
   "source": [
    "#The below chunks make little data frames of all of the files we just split up. \n",
    "#For validation\n",
    "starter_path=(pathy+\"/val/\")\n",
    "data_labels_val=[]\n",
    "next_path= os.listdir(starter_path)\n",
    "\n",
    "#after_that = os.path.join(starter_path,next_path[0])\n",
    "#now_test= os.listdir(after_that)\n",
    "for i in next_path:\n",
    "    impath=(os.path.join(starter_path,i))\n",
    "    data_labels_val.append(i)"
   ]
  },
  {
   "cell_type": "code",
   "execution_count": 9,
   "id": "b961fd58-0b7c-4601-99bf-f38a8d4a36ca",
   "metadata": {},
   "outputs": [],
   "source": [
    "#The below chunks make little data frames of all of the files we just split up. \n",
    "#For testing\n",
    "starter_path=(pathy+\"/test/\")\n",
    "data_labels_tst=[]\n",
    "next_path= os.listdir(starter_path)\n",
    "\n",
    "#after_that = os.path.join(starter_path,next_path[0])\n",
    "#now_test= os.listdir(after_that)\n",
    "for i in next_path:\n",
    "    impath=(os.path.join(starter_path,i))\n",
    "    data_labels_tst.append(i)"
   ]
  },
  {
   "cell_type": "code",
   "execution_count": 10,
   "id": "c223930c-fa34-4eae-bb18-a6dad0ffedd6",
   "metadata": {},
   "outputs": [],
   "source": [
    "partial_string = '_Y'\n",
    "\n",
    "xy3=pd.DataFrame(data_labels_tst)\n",
    "\n",
    "xy3['status'] = xy3[0].str.contains(partial_string).astype(int)\n",
    "\n",
    "xy3.columns=['id','status']"
   ]
  },
  {
   "cell_type": "code",
   "execution_count": 11,
   "id": "c83e9727-aab9-423c-9ee8-d92117f058b8",
   "metadata": {},
   "outputs": [],
   "source": [
    "\n",
    "xy3.to_csv(\"test_labels_final.csv\",index=False)"
   ]
  },
  {
   "cell_type": "code",
   "execution_count": 12,
   "id": "68229da4-491e-4303-9884-6250822baf80",
   "metadata": {},
   "outputs": [],
   "source": [
    "from torch.nn import Module\n",
    "from torch.nn import Conv2d\n",
    "from torch.nn import Linear\n",
    "from torch.nn import MaxPool2d\n",
    "from torch.nn import ReLU\n",
    "from torch.nn import LogSoftmax\n",
    "from torch import flatten"
   ]
  },
  {
   "cell_type": "code",
   "execution_count": 13,
   "id": "ab3df4a1-4799-4df1-b43b-e0f98c44668a",
   "metadata": {},
   "outputs": [],
   "source": [
    "from PIL import Image\n",
    "import pydicom\n",
    "import torch\n",
    "import numpy as np\n",
    "import torchvision.transforms as T\n",
    "\n",
    "\n",
    "from PIL import Image\n",
    "import torch\n",
    "\n",
    "import torchvision.transforms as T\n",
    "\n",
    "device = torch.device('cpu') \n",
    "\n",
    "sample_image = Image.open(os.getcwd()+\"/_X000b2a59-e982-4802-9d3d-b55c199d762a.dcm.jpg\")\n",
    "img_transforms = T.Compose([\n",
    "                                     T.Resize((512,512), interpolation=2),\n",
    "                                     T.RandomHorizontalFlip(p=0.5),\n",
    "                                     T.ToTensor()])\n",
    "img_tensor = img_transforms(sample_image) \n",
    "#x = img_tensor.to(device=device)\n",
    "\n",
    "#transform = T.Compose(\n",
    "    #[T.Resize((32,32), interpolation=2),T.ToTensor(),\n",
    "     #T.Normalize((0.5,), (0.5,))])"
   ]
  },
  {
   "cell_type": "code",
   "execution_count": 14,
   "id": "30f55bff-f40b-40ee-8f64-e0dee9c83eae",
   "metadata": {},
   "outputs": [],
   "source": [
    "import torch\n",
    "from torch.utils.data import Dataset\n",
    "\n",
    "from torchvision.transforms import ToTensor\n",
    "import matplotlib.pyplot as plt\n",
    "import os\n",
    "import pandas as pd\n",
    "from torchvision.io import read_image\n",
    "import pandas as pd\n",
    "import numpy as np\n",
    "\n",
    "\n",
    "\n",
    "control_dir =pathy+\"/test\"\n",
    "\n",
    "class Loading_test(Dataset):\n",
    "    \n",
    "    def __init__(self):\n",
    "        \"\"\"Trying to load jpeg transformed Dicam files.\n",
    "        \"\"\"\n",
    "        #Define dataset\n",
    "        overall_dataset_dir = control_dir\n",
    "        self.selected_dataset_dir = os.path.join(os.path.join(pathy+'//test'))\n",
    "        self.all_filenames = os.listdir(self.selected_dataset_dir)\n",
    "        self.all_labels = pd.read_csv(os.path.join(os.getcwd()+'/test_labels_final.csv'))\n",
    "        self.label_meanings = self.all_labels.columns.values.tolist()\n",
    "        \n",
    "    def __len__(self):\n",
    "        \"\"\"\n",
    "        Weird\"\"\"\n",
    "        return len(self.all_filenames)\n",
    "        \n",
    "    def __getitem__(self, idx):\n",
    "        \"\"\"The IDX function is built in to Pytorch. Pretty Cool I think.\n",
    "        And then I use the above image transforms function\"\"\"\n",
    "        selected_filename = self.all_filenames[idx]\n",
    "        #print(selected_filename)\n",
    "        imagepil = Image.open(os.path.join(self.selected_dataset_dir,selected_filename))\n",
    "        \n",
    "        image = img_transforms(imagepil)\n",
    "        self.all_labels = pd.read_csv(os.path.join(os.getcwd()+'/test_labels_final.csv'))\n",
    "        label= self.all_labels['status'][idx]\n",
    "       \n",
    "        \n",
    "        sample = {'data':image, #preprocessed image, for input into NN\n",
    "                  'label':label,\n",
    "                  'img_idx':idx, 'sample_name':selected_filename}\n",
    "        return(sample)"
   ]
  },
  {
   "cell_type": "code",
   "execution_count": 15,
   "id": "78dcb591-8476-4226-bbda-f4780cb0e296",
   "metadata": {},
   "outputs": [],
   "source": [
    "test1=Loading_test()"
   ]
  },
  {
   "cell_type": "code",
   "execution_count": 16,
   "id": "899c1fc9-34f0-4153-916d-83ab92c2d6d0",
   "metadata": {},
   "outputs": [],
   "source": [
    "from torch.utils.data import DataLoader\n",
    "batch_size=30\n",
    "test_dataloader = DataLoader(test1, batch_size=batch_size, shuffle=True)"
   ]
  },
  {
   "cell_type": "code",
   "execution_count": 17,
   "id": "0f5dd9dc-5320-410a-9da0-7ef1cef6dd5f",
   "metadata": {},
   "outputs": [],
   "source": [
    "import torch.nn as nn\n",
    "import torch.nn.functional as F\n",
    "\n",
    "\n",
    "class Modelo(nn.Module):\n",
    "    def __init__(self):\n",
    "        super(Modelo, self).__init__()\n",
    "        self.conv = nn.Sequential(\n",
    "        nn.Conv2d(1, 20, kernel_size = (3,3), padding=1),\n",
    "        nn.Conv2d(20, 10, kernel_size = (3,3), padding=1),\n",
    "        torch.nn.BatchNorm2d(10),\n",
    "        nn.LeakyReLU(inplace=True),\n",
    "        nn.Conv2d(10, 5, kernel_size = (3,3), padding=1),\n",
    "        nn.Conv2d(5, 4, kernel_size = (3,3), padding=1),\n",
    "        torch.nn.BatchNorm2d(4), # the norm layer takes the output (so in this case 4 from above)\n",
    "        #nn.ReLU(inplace=True),\n",
    "        nn.LeakyReLU(inplace=True),\n",
    "        nn.Dropout(p=0.2),\n",
    "        torch.nn.MaxPool2d((2, 2)), # so this shrinks from 512 to 256 \n",
    "        nn.Conv2d(4, 3, kernel_size = (3,3), padding=1),\n",
    "        nn.Dropout(p=0.2), \n",
    "        torch.nn.MaxPool2d((2, 2)),    # Max pooling the model reducing inputs from 256 to 128 \n",
    "        nn.Conv2d(3, 2, kernel_size = (3,3), padding=1),\n",
    "        torch.nn.MaxPool2d((2, 2)), # so this shrinks from 128 to 64\n",
    "        torch.nn.BatchNorm2d(2))\n",
    "        #nn.Conv2d(3, 2, kernel_size = (3,3), padding=1),\n",
    "        #torch.nn.MaxPool2d((2, 2))) # This shrinks to 64\n",
    "        self.fc = nn.Linear(in_features=8192,out_features=1) # For the linear stuff It is last conv2d shape * input dim*input dim\n",
    "        # Basically (2*128*128)\n",
    "        #self.fc1 = nn.Linear(in_features=batch_size,out_features=batch_size)\n",
    "\n",
    "    def forward(self, x):\n",
    "        x= self.conv(x)\n",
    "        #x = F.max_pool2d(F.relu(self.conv(x)),4,4)\n",
    "        #x = F.max_pool2d(F.relu(self.conv1(x)),2,2)\n",
    "        #x = F.max_pool2d(F.relu(self.conv2(x)),2)\n",
    "        x = torch.flatten(x,start_dim=1,end_dim=-1)\n",
    "        \n",
    "        x=self.fc(x)\n",
    "\n",
    "        \n",
    "       # x=self.fc1(x)\n",
    "        return x\n",
    "\n",
    "\n",
    "model = Modelo()"
   ]
  },
  {
   "cell_type": "markdown",
   "id": "1f2d3004-87ae-441e-9803-b513449c6212",
   "metadata": {},
   "source": [
    "\\newpage\n",
    "\n",
    "### Model Summary"
   ]
  },
  {
   "cell_type": "markdown",
   "id": "d4ab2703-bd5a-49e2-b850-7329fe8425bd",
   "metadata": {},
   "source": []
  },
  {
   "cell_type": "code",
   "execution_count": 18,
   "id": "a7165e84-18b8-45ca-ad86-494618c7889f",
   "metadata": {},
   "outputs": [
    {
     "name": "stdout",
     "output_type": "stream",
     "text": [
      "Model Architecture: Modelo(\n",
      "  (conv): Sequential(\n",
      "    (0): Conv2d(1, 20, kernel_size=(3, 3), stride=(1, 1), padding=(1, 1))\n",
      "    (1): Conv2d(20, 10, kernel_size=(3, 3), stride=(1, 1), padding=(1, 1))\n",
      "    (2): BatchNorm2d(10, eps=1e-05, momentum=0.1, affine=True, track_running_stats=True)\n",
      "    (3): LeakyReLU(negative_slope=0.01, inplace=True)\n",
      "    (4): Conv2d(10, 5, kernel_size=(3, 3), stride=(1, 1), padding=(1, 1))\n",
      "    (5): Conv2d(5, 4, kernel_size=(3, 3), stride=(1, 1), padding=(1, 1))\n",
      "    (6): BatchNorm2d(4, eps=1e-05, momentum=0.1, affine=True, track_running_stats=True)\n",
      "    (7): LeakyReLU(negative_slope=0.01, inplace=True)\n",
      "    (8): Dropout(p=0.2, inplace=False)\n",
      "    (9): MaxPool2d(kernel_size=(2, 2), stride=(2, 2), padding=0, dilation=1, ceil_mode=False)\n",
      "    (10): Conv2d(4, 3, kernel_size=(3, 3), stride=(1, 1), padding=(1, 1))\n",
      "    (11): Dropout(p=0.2, inplace=False)\n",
      "    (12): MaxPool2d(kernel_size=(2, 2), stride=(2, 2), padding=0, dilation=1, ceil_mode=False)\n",
      "    (13): Conv2d(3, 2, kernel_size=(3, 3), stride=(1, 1), padding=(1, 1))\n",
      "    (14): MaxPool2d(kernel_size=(2, 2), stride=(2, 2), padding=0, dilation=1, ceil_mode=False)\n",
      "    (15): BatchNorm2d(2, eps=1e-05, momentum=0.1, affine=True, track_running_stats=True)\n",
      "  )\n",
      "  (fc): Linear(in_features=8192, out_features=1, bias=True)\n",
      ")\n"
     ]
    }
   ],
   "source": [
    "print(\"Model Architecture:\",model)"
   ]
  },
  {
   "cell_type": "code",
   "execution_count": 57,
   "id": "fa604de5-c662-4c22-922c-55dad94f885b",
   "metadata": {},
   "outputs": [
    {
     "name": "stdout",
     "output_type": "stream",
     "text": [
      "----------------------------------------------------------------\n",
      "        Layer (type)               Output Shape         Param #\n",
      "================================================================\n",
      "            Conv2d-1         [-1, 20, 512, 512]             200\n",
      "            Conv2d-2         [-1, 10, 512, 512]           1,810\n",
      "       BatchNorm2d-3         [-1, 10, 512, 512]              20\n",
      "         LeakyReLU-4         [-1, 10, 512, 512]               0\n",
      "            Conv2d-5          [-1, 5, 512, 512]             455\n",
      "            Conv2d-6          [-1, 4, 512, 512]             184\n",
      "       BatchNorm2d-7          [-1, 4, 512, 512]               8\n",
      "         LeakyReLU-8          [-1, 4, 512, 512]               0\n",
      "           Dropout-9          [-1, 4, 512, 512]               0\n",
      "        MaxPool2d-10          [-1, 4, 256, 256]               0\n",
      "           Conv2d-11          [-1, 3, 256, 256]             111\n",
      "          Dropout-12          [-1, 3, 256, 256]               0\n",
      "        MaxPool2d-13          [-1, 3, 128, 128]               0\n",
      "           Conv2d-14          [-1, 2, 128, 128]              56\n",
      "        MaxPool2d-15            [-1, 2, 64, 64]               0\n",
      "      BatchNorm2d-16            [-1, 2, 64, 64]               4\n",
      "           Linear-17                    [-1, 1]           8,193\n",
      "================================================================\n",
      "Total params: 11,041\n",
      "Trainable params: 11,041\n",
      "Non-trainable params: 0\n",
      "----------------------------------------------------------------\n",
      "Input size (MB): 1.00\n",
      "Forward/backward pass size (MB): 147.75\n",
      "Params size (MB): 0.04\n",
      "Estimated Total Size (MB): 148.79\n",
      "----------------------------------------------------------------\n",
      "None\n"
     ]
    }
   ],
   "source": [
    "from torchvision import models\n",
    "from torchsummary import summary\n",
    "\n",
    "\n",
    "print(summary(model, (1, 512, 512)))"
   ]
  },
  {
   "cell_type": "markdown",
   "id": "cec200b9-3782-4d7a-ba1a-fad6c8aa09f4",
   "metadata": {},
   "source": [
    "This model is not overly gigantic. \n",
    "\\newpage"
   ]
  },
  {
   "cell_type": "code",
   "execution_count": 36,
   "id": "fb0ad794-0040-46a6-9897-ef97b7881ea4",
   "metadata": {},
   "outputs": [],
   "source": [
    "import torch.nn.functional as F\n",
    "loss_fn = nn.BCEWithLogitsLoss()\n",
    "optimizer = torch.optim.AdamW(model.parameters(), lr=0.000010)"
   ]
  },
  {
   "cell_type": "code",
   "execution_count": 37,
   "id": "201ce450-781b-4272-b9cb-953c4e23ec7d",
   "metadata": {},
   "outputs": [],
   "source": [
    "PATH = 'model44.pt'"
   ]
  },
  {
   "cell_type": "code",
   "execution_count": 38,
   "id": "13c34e74-f5fc-47f5-b8b2-cc401ad33946",
   "metadata": {},
   "outputs": [],
   "source": [
    "\n",
    "from torcheval.metrics.functional import binary_accuracy\n",
    "from sklearn import metrics\n",
    "from sklearn.metrics import roc_curve\n",
    "from torcheval.metrics.functional.classification import binary_recall\n",
    "from torcheval.metrics.functional import binary_accuracy\n",
    "from sklearn import metrics\n",
    "from sklearn.metrics import roc_curve"
   ]
  },
  {
   "cell_type": "code",
   "execution_count": 39,
   "id": "3e85f3ec-d849-44eb-a84f-2bfed1ae465b",
   "metadata": {},
   "outputs": [],
   "source": [
    "\n",
    "checkpoint = torch.load(PATH)\n",
    "model.load_state_dict(checkpoint['model_state_dict'])\n",
    "optimizer.load_state_dict(checkpoint['optimizer_state_dict'])\n",
    "epoch = checkpoint['epoch']\n",
    "loss = checkpoint['loss']\n",
    "accuracy10=[]\n",
    "from torcheval.metrics.functional.aggregation.auc import auc\n",
    "from torcheval.metrics.functional import binary_precision\n",
    "from torcheval.metrics.functional import binary_accuracy\n",
    "from sklearn.metrics import accuracy_score\n",
    "from sklearn import metrics\n",
    "from torcheval.metrics.functional import binary_f1_score\n",
    "for i, batch in enumerate(test_dataloader):\n",
    "    model.eval()\n",
    "    data,label = batch['data'],batch['label']\n",
    "    data.to(device)\n",
    "    label.to(device)\n",
    "    test_logits,label=(model(data),label)\n",
    "    test_logits = test_logits.squeeze()\n",
    "    test_pred=torch.sigmoid(test_logits)\n",
    "    test_pred1=test_pred.squeeze(-1).detach().numpy()\n",
    "    #print(test_pred1)\n",
    "    fpr, tpr, threshold = roc_curve(label.float(), test_pred1)\n",
    "    #roc_auc = auc(fpr, tpr)\n",
    "    #print(accuracy_score(label, test_pred1))\n",
    "    #test_pred=torch.round(test_pred)\n",
    "    ##test_pred_1= test_pred.detach().numpy()\n",
    "    ##nn_fpr, nn_tpr, nn_thresholds = roc_curve(label, y_score)\n",
    "    ##test_true=label\n",
    "    #print(label)\n",
    "    #print(auc(test_pred, test_true, reorder=True))\n",
    "    arfs=binary_accuracy(test_pred, label, threshold=0.7)\n",
    "    test_pred2=arfs.detach().numpy()\n",
    "    ats=binary_recall(test_pred, label, threshold=0.61)\n",
    "    bin_rec=ats.detach().numpy()\n",
    "    f1_score=binary_f1_score(test_pred, label, threshold=0.61)\n",
    "    f1_rec=f1_score.detach().numpy()\n",
    "    prec1=binary_precision(test_pred, label, threshold=0.61)\n",
    "    prec_scr=prec1.detach().numpy()\n",
    "    accuracy10.append([test_pred2,bin_rec,f1_rec,prec_scr])"
   ]
  },
  {
   "cell_type": "code",
   "execution_count": 40,
   "id": "62b11650-197f-4c52-a6bd-15bfb159e8d2",
   "metadata": {},
   "outputs": [],
   "source": [
    "ahh=pd.DataFrame(accuracy10)"
   ]
  },
  {
   "cell_type": "markdown",
   "id": "9fd17270-e51f-4b8b-a67d-09bff112fd36",
   "metadata": {},
   "source": [
    "### Results"
   ]
  },
  {
   "cell_type": "code",
   "execution_count": 41,
   "id": "98dffd0e-2fd4-4db3-a6ab-e8e561223d2a",
   "metadata": {},
   "outputs": [
    {
     "data": {
      "image/png": "[encoded data removed]",
      "text/plain": [
       "<Figure size 1600x1500 with 3 Axes>"
      ]
     },
     "metadata": {},
     "output_type": "display_data"
    }
   ],
   "source": [
    "from matplotlib import pyplot as plt\n",
    "f,ax= plt.subplots(figsize=(16,15))\n",
    "plt.subplot(1,2,1)\n",
    "plt.plot(fpr,tpr,marker='.')\n",
    "plt.ylabel('True Positive Rate')\n",
    "plt.xlabel('False Positive Rate' )\n",
    "ax.set_axis_off()\n",
    "\n",
    "plt.subplot(1,2,2)\n",
    "x=['Binary Accuracy','Recall','F1_Score','precision']\n",
    "y=[np.mean(ahh[0]),np.mean(ahh[1]),np.mean(ahh[2]),np.mean(ahh[3])]\n",
    "plt.bar(x[0],y[0], label='Binary Accuracy')\n",
    "plt.bar(x[1],y[1],label='Recall')\n",
    "plt.bar(x[2],y[2],label='F1_Score')\n",
    "plt.bar(x[3],y[3],label='precision')\n",
    "plt.show()\n",
    "ax.set_axis_off()"
   ]
  },
  {
   "cell_type": "code",
   "execution_count": 42,
   "id": "7dd9d27c-483a-40b4-be1b-9c172c051b88",
   "metadata": {},
   "outputs": [
    {
     "name": "stdout",
     "output_type": "stream",
     "text": [
      "Metrics \n",
      " Accuracy 0.5305555661519369 \n",
      " Recall 0.5879966815312704 \n",
      " F-1 Score 0.6082125902175903 \n",
      " Precision 0.6471310456593832\n"
     ]
    }
   ],
   "source": [
    "print(\"Metrics\",\"\\n\",\"Accuracy\",np.mean(ahh[0]),'\\n',\"Recall\",np.mean(ahh[1]),'\\n',\"F-1 Score\", np.mean(ahh[2]),'\\n',\"Precision\",np.mean(ahh[3]))"
   ]
  },
  {
   "cell_type": "code",
   "execution_count": 27,
   "id": "29120da9-51b3-4f0b-8766-6cee4919c738",
   "metadata": {},
   "outputs": [],
   "source": [
    "!pip install nbconvert --quiet\n"
   ]
  },
  {
   "cell_type": "code",
   "execution_count": 59,
   "id": "ad17cbd0-5962-4fb1-9bd4-b2272fe86158",
   "metadata": {},
   "outputs": [
    {
     "name": "stdout",
     "output_type": "stream",
     "text": [
      "[NbConvertApp] Converting notebook ml_model.ipynb to PDF\n",
      "[NbConvertApp] Support files will be in ml_model_files/\n",
      "[NbConvertApp] Making directory ./ml_model_files\n",
      "[NbConvertApp] Writing 24660 bytes to notebook.tex\n",
      "[NbConvertApp] Building PDF\n",
      "[NbConvertApp] Running xelatex 3 times: ['xelatex', 'notebook.tex', '-quiet']\n",
      "[NbConvertApp] Running bibtex 1 time: ['bibtex', 'notebook']\n",
      "[NbConvertApp] WARNING | bibtex had problems, most likely because there were no citations\n",
      "[NbConvertApp] PDF successfully created\n",
      "[NbConvertApp] Writing 59065 bytes to ml_model.pdf\n"
     ]
    }
   ],
   "source": [
    "!jupyter nbconvert  --no-input --to PDF  --no-prompt ml_model.ipynb"
   ]
  },
  {
   "cell_type": "code",
   "execution_count": 19,
   "id": "48c0f433-c804-44ce-88fe-6b8045bc15fc",
   "metadata": {},
   "outputs": [],
   "source": [
    "directory='/sbgenomics/output-files/'\n",
    "import shutil\n",
    "import os\n",
    "file='ml_model.ipynb.pdf'\n",
    "abc=(os.path.join(directory,\"/\"+ 'ml_model.ipynb.pdf')) #<- get the first file name\n",
    "path = os.getcwd()\n",
    "moveto =directory\n",
    "src = path\n",
    "dst = moveto\n",
    "try:\n",
    "    shutil.move(src+\"/\"+file,dst)\n",
    "    \n",
    "except OSError:\n",
    "    pass"
   ]
  },
  {
   "cell_type": "code",
   "execution_count": null,
   "id": "90cf7f15-55df-429e-ae85-4e619c6f6264",
   "metadata": {},
   "outputs": [],
   "source": []
  }
 ],
 "metadata": {
  "kernelspec": {
   "display_name": "Python 3 (ipykernel)",
   "language": "python",
   "name": "python3"
  },
  "language_info": {
   "codemirror_mode": {
    "name": "ipython",
    "version": 3
   },
   "file_extension": ".py",
   "mimetype": "text/x-python",
   "name": "python",
   "nbconvert_exporter": "python",
   "pygments_lexer": "ipython3",
   "version": "3.11.6"
  }
 },
 "nbformat": 4,
 "nbformat_minor": 5
}
